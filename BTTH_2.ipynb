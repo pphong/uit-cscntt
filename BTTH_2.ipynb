{
  "nbformat": 4,
  "nbformat_minor": 0,
  "metadata": {
    "colab": {
      "provenance": [],
      "authorship_tag": "ABX9TyP5VxwHSsSLN34DyGqOfQLs",
      "include_colab_link": true
    },
    "kernelspec": {
      "name": "python3",
      "display_name": "Python 3"
    },
    "language_info": {
      "name": "python"
    }
  },
  "cells": [
    {
      "cell_type": "markdown",
      "metadata": {
        "id": "view-in-github",
        "colab_type": "text"
      },
      "source": [
        "<a href=\"https://colab.research.google.com/github/pphong/uit-cscntt/blob/main/BTTH_2.ipynb\" target=\"_parent\"><img src=\"https://colab.research.google.com/assets/colab-badge.svg\" alt=\"Open In Colab\"/></a>"
      ]
    },
    {
      "cell_type": "code",
      "execution_count": 7,
      "metadata": {
        "colab": {
          "base_uri": "https://localhost:8080/"
        },
        "id": "9DlzaiE99n1W",
        "outputId": "b0d24cfa-acb9-42b4-e3a2-f9dd022024ea"
      },
      "outputs": [
        {
          "output_type": "stream",
          "name": "stdout",
          "text": [
            "Drive already mounted at /content/drive; to attempt to forcibly remount, call drive.mount(\"/content/drive\", force_remount=True).\n",
            "File Name: Jim's Answer Key.pdf, File Type: .pdf\n",
            "File Name: Jimm Toeic 1000 RC.pdf, File Type: .pdf\n",
            "File Name: Jimm Toeic 1000 LC.pdf, File Type: .pdf\n",
            "Directory Name: audio\n"
          ]
        }
      ],
      "source": [
        "# prompt: create a function to read file from google drive, and list all the file name with their type of file in my drive\n",
        "\n",
        "from google.colab import drive\n",
        "import os\n",
        "\n",
        "def list_files_in_drive(drive_path):\n",
        "    drive.mount('/content/drive')\n",
        "\n",
        "    full_path = '/content/drive/MyDrive/' + drive_path\n",
        "\n",
        "    try:\n",
        "        for filename in os.listdir(full_path):\n",
        "            file_path = os.path.join(full_path, filename)\n",
        "            if os.path.isfile(file_path):\n",
        "                name, ext = os.path.splitext(filename)\n",
        "                print(f\"File Name: {filename}, File Type: {ext}\")\n",
        "            elif os.path.isdir(file_path):\n",
        "                print(f\"Directory Name: {filename}\")\n",
        "\n",
        "    except FileNotFoundError:\n",
        "        print(f\"Error: Path '{full_path}' not found in Google Drive.\")\n",
        "\n",
        "# Example Usage:\n",
        "list_files_in_drive('Colab Notebooks') # Replace 'Colab Notebooks' with your desired folder path"
      ]
    }
  ]
}