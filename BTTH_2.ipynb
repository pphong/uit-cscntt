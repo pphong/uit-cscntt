{
  "nbformat": 4,
  "nbformat_minor": 0,
  "metadata": {
    "colab": {
      "provenance": [],
      "authorship_tag": "ABX9TyOfzgel4l5lDJ6g3DxAFaoT",
      "include_colab_link": true
    },
    "kernelspec": {
      "name": "python3",
      "display_name": "Python 3"
    },
    "language_info": {
      "name": "python"
    }
  },
  "cells": [
    {
      "cell_type": "markdown",
      "metadata": {
        "id": "view-in-github",
        "colab_type": "text"
      },
      "source": [
        "<a href=\"https://colab.research.google.com/github/pphong/uit-cscntt/blob/main/BTTH_2.ipynb\" target=\"_parent\"><img src=\"https://colab.research.google.com/assets/colab-badge.svg\" alt=\"Open In Colab\"/></a>"
      ]
    },
    {
      "cell_type": "code",
      "execution_count": 7,
      "metadata": {
        "colab": {
          "base_uri": "https://localhost:8080/"
        },
        "id": "9DlzaiE99n1W",
        "outputId": "b0d24cfa-acb9-42b4-e3a2-f9dd022024ea"
      },
      "outputs": [
        {
          "output_type": "stream",
          "name": "stdout",
          "text": [
            "Drive already mounted at /content/drive; to attempt to forcibly remount, call drive.mount(\"/content/drive\", force_remount=True).\n",
            "File Name: Jim's Answer Key.pdf, File Type: .pdf\n",
            "File Name: Jimm Toeic 1000 RC.pdf, File Type: .pdf\n",
            "File Name: Jimm Toeic 1000 LC.pdf, File Type: .pdf\n",
            "Directory Name: audio\n"
          ]
        }
      ],
      "source": [
        "# prompt: create a function to read file from google drive, and list all the file name with their type of file in my drive\n",
        "\n",
        "from google.colab import drive\n",
        "import os\n",
        "\n",
        "def list_files_in_drive(drive_path):\n",
        "    drive.mount('/content/drive')\n",
        "\n",
        "    full_path = '/content/drive/MyDrive/' + drive_path\n",
        "\n",
        "    try:\n",
        "        for filename in os.listdir(full_path):\n",
        "            file_path = os.path.join(full_path, filename)\n",
        "            if os.path.isfile(file_path):\n",
        "                name, ext = os.path.splitext(filename)\n",
        "                print(f\"File Name: {filename}, File Type: {ext}\")\n",
        "            elif os.path.isdir(file_path):\n",
        "                print(f\"Directory Name: {filename}\")\n",
        "\n",
        "    except FileNotFoundError:\n",
        "        print(f\"Error: Path '{full_path}' not found in Google Drive.\")\n",
        "\n",
        "# Example Usage:\n",
        "list_files_in_drive('Colab Notebooks') # Replace 'Colab Notebooks' with your desired folder path"
      ]
    },
    {
      "cell_type": "markdown",
      "source": [
        "**Google Colab Tutorials**"
      ],
      "metadata": {
        "id": "a-qGbgMZBd-a"
      }
    },
    {
      "cell_type": "code",
      "source": [
        "import time\n",
        "print(time.ctime())"
      ],
      "metadata": {
        "colab": {
          "base_uri": "https://localhost:8080/"
        },
        "id": "Vqux05ADBl4V",
        "outputId": "62a2db46-a2f1-4794-c022-5055ad6a0d65"
      },
      "execution_count": 8,
      "outputs": [
        {
          "output_type": "stream",
          "name": "stdout",
          "text": [
            "Sat Dec  7 12:10:18 2024\n"
          ]
        }
      ]
    },
    {
      "cell_type": "code",
      "source": [
        "time.sleep(5)\n",
        "print (time.ctime())"
      ],
      "metadata": {
        "colab": {
          "base_uri": "https://localhost:8080/"
        },
        "id": "7Gj1xCFxB1v1",
        "outputId": "ec57610e-1ef6-4c57-bb90-79ba740731cb"
      },
      "execution_count": 10,
      "outputs": [
        {
          "output_type": "stream",
          "name": "stdout",
          "text": [
            "Sat Dec  7 12:14:00 2024\n"
          ]
        }
      ]
    },
    {
      "cell_type": "markdown",
      "source": [
        "This is **bold**.\n",
        "This is *italic*.\n",
        "This is ~strikethrough~."
      ],
      "metadata": {
        "id": "EO96Ex7hC-CE"
      }
    },
    {
      "cell_type": "markdown",
      "source": [
        "$\\sqrt{3x-1}+(1+x)^2$"
      ],
      "metadata": {
        "id": "VHoSsBhKDBGS"
      }
    },
    {
      "cell_type": "markdown",
      "source": [
        "$e^x = \\sum_{i = 0}^\\infty \\frac{1}{i!}x^i$"
      ],
      "metadata": {
        "id": "NyiTxpf7DEMC"
      }
    },
    {
      "cell_type": "markdown",
      "source": [
        "Constraints are\n",
        "   - $3x_1 + 6x_2 + x_3 =< 28$\n",
        "   - $7x_1 + 3x_2 + 2x_3 =< 37$\n",
        "   - $4x_1 + 5x_2 + 2x_3 =< 19$\n",
        "   - $x_1,x_2,x_3 >=0 $\n",
        "\n",
        "The trial vector is calculated as follows:\n",
        "- $u_i(t) = x_i(t) + \\beta(\\hat{x}(t) − x_i(t)) + \\beta \\sum_{k = 1}^{n_v}(x_{i1,k}(t) − x_{i2,k}(t))$\n",
        "$f(x_1, x_2) = 20 + e - 20exp(-0.2 \\sqrt {\\frac {1}{n} (x_1^2 + x_2^2)}) - exp (\\frac {1}{n}(cos(2\\pi x_1) + cos(2\\pi x_2))$\n",
        "\n",
        "$x ∈ [-5, 5]$\n",
        ">$A_{m,n} =\n",
        "   \\begin{pmatrix}\n",
        "   a_{1,1} > a_{1,2} > \\cdots > a_{1,n} \\\\\n",
        "   a_{2,1} > a_{2,2} > \\cdots > a_{2,n} \\\\\n",
        "   \\vdots > \\vdots > \\ddots > \\vdots \\\\\n",
        "   a_{m,1} > a_{m,2} > \\cdots > a_{m,n}\n",
        "   \\end{pmatrix}$"
      ],
      "metadata": {
        "id": "4rQ44TR-DFQ0"
      }
    },
    {
      "cell_type": "markdown",
      "source": [],
      "metadata": {
        "id": "rPI6MYenDK-s"
      }
    }
  ]
}